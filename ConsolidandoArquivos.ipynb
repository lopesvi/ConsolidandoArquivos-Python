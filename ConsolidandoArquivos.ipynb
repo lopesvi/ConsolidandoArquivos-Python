{
 "cells": [
  {
   "cell_type": "code",
   "execution_count": 25,
   "metadata": {},
   "outputs": [],
   "source": [
    "import pandas as pd\n",
    "import os"
   ]
  },
  {
   "cell_type": "code",
   "execution_count": 7,
   "metadata": {},
   "outputs": [],
   "source": [
    "vendas2021 = pd.read_excel(r\"C:\\Users\\vinic\\Downloads\\Origem\\Origem\\arquivos_excel\\Consolidar\\Vendas2021.xlsx\")\n",
    "vendas2022 = pd.read_excel(r\"C:\\Users\\vinic\\Downloads\\Origem\\Origem\\arquivos_excel\\Consolidar\\Vendas2022.xlsx\")\n",
    "vendas2023 = pd.read_excel(r\"C:\\Users\\vinic\\Downloads\\Origem\\Origem\\arquivos_excel\\Consolidar\\Vendas2023.xlsx\")"
   ]
  },
  {
   "cell_type": "code",
   "execution_count": null,
   "metadata": {},
   "outputs": [],
   "source": [
    "vendas2021.head()"
   ]
  },
  {
   "cell_type": "code",
   "execution_count": null,
   "metadata": {},
   "outputs": [],
   "source": [
    "vendas2022.head()"
   ]
  },
  {
   "cell_type": "code",
   "execution_count": null,
   "metadata": {},
   "outputs": [],
   "source": [
    "vendas2023.head()"
   ]
  },
  {
   "cell_type": "markdown",
   "metadata": {},
   "source": [
    "CONSOLIDANDO ARQUIVOS DE UMA PASTA"
   ]
  },
  {
   "cell_type": "code",
   "execution_count": null,
   "metadata": {},
   "outputs": [],
   "source": [
    "diretorio = (r\"C:\\Users\\vinic\\Downloads\\Origem\\Origem\\arquivos_excel\\Consolidar\")\n",
    "\n",
    "dados = []\n",
    "\n",
    "for arquivo in os.listdir(diretorio):\n",
    "    if arquivo.endswith('.xlsx'):\n",
    "        caminho_arquivo = os.path.join(diretorio, arquivo)\n",
    "        df = pd.read_excel(caminho_arquivo)\n",
    "        dados.append(df)\n",
    "\n",
    "consolidado = pd.concat(dados)\n",
    "consolidado\n"
   ]
  },
  {
   "cell_type": "markdown",
   "metadata": {},
   "source": [
    "SALVANDO CONSOLIDADE EM UMA PASTA ESPECIFICA FORMATO EXCEL"
   ]
  },
  {
   "cell_type": "code",
   "execution_count": 31,
   "metadata": {},
   "outputs": [],
   "source": [
    "pasta_destino = r'C:\\\\Users\\\\vinic\\Downloads\\\\Origem\\\\Origem\\\\arquivos_excel\\\\Consolidar\\Arquivos consolidados\\\\'\n",
    "nome_arquivo = 'GeralVendas.xlsx'\n",
    "caminho_completo = pasta_destino + nome_arquivo\n",
    "consolidado.to_excel(caminho_completo, index = False)"
   ]
  },
  {
   "cell_type": "markdown",
   "metadata": {},
   "source": [
    "SALVANDO EM FORMATO CSV"
   ]
  },
  {
   "cell_type": "code",
   "execution_count": 33,
   "metadata": {},
   "outputs": [],
   "source": [
    "pasta_destino = r'C:\\\\Users\\\\vinic\\Downloads\\\\Origem\\\\Origem\\\\arquivos_excel\\\\Consolidar\\Arquivos consolidados\\\\'\n",
    "nome_arquivo = 'GeralVendas.csv'\n",
    "caminho_completo = pasta_destino + nome_arquivo\n",
    "consolidado.to_csv(caminho_completo, index = False, sep=',')"
   ]
  },
  {
   "cell_type": "markdown",
   "metadata": {},
   "source": [
    "SALVANDO EM TXT"
   ]
  },
  {
   "cell_type": "code",
   "execution_count": 36,
   "metadata": {},
   "outputs": [],
   "source": [
    "pasta_destino = r'C:\\\\Users\\\\vinic\\Downloads\\\\Origem\\\\Origem\\\\arquivos_excel\\\\Consolidar\\Arquivos consolidados\\\\'\n",
    "nome_arquivo = 'GeralVendas.txt'\n",
    "caminho_completo = pasta_destino + nome_arquivo\n",
    "consolidado.to_csv(caminho_completo, index = False, sep = ';')"
   ]
  }
 ],
 "metadata": {
  "kernelspec": {
   "display_name": "base",
   "language": "python",
   "name": "python3"
  },
  "language_info": {
   "codemirror_mode": {
    "name": "ipython",
    "version": 3
   },
   "file_extension": ".py",
   "mimetype": "text/x-python",
   "name": "python",
   "nbconvert_exporter": "python",
   "pygments_lexer": "ipython3",
   "version": "3.12.4"
  }
 },
 "nbformat": 4,
 "nbformat_minor": 2
}
